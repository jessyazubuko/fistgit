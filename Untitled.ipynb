{
 "cells": [
  {
   "cell_type": "markdown",
   "id": "c52a4c9e-e16b-4a03-8e20-a17a3c6bc62e",
   "metadata": {},
   "source": [
    "# My Jupyter Notebook"
   ]
  },
  {
   "cell_type": "markdown",
   "id": "dcf0dbfa-71f5-4cbe-b1d0-6810d92a6be7",
   "metadata": {},
   "source": [
    "**Jessica Azubuko**<br>\n",
    "I would like to become a successful Data Scientist"
   ]
  },
  {
   "cell_type": "markdown",
   "id": "34637d7f-296d-4610-8952-666d93c13ff0",
   "metadata": {},
   "source": [
    " *want to become a data Scientist to use my skills in the health care sector*"
   ]
  },
  {
   "cell_type": "code",
   "execution_count": null,
   "id": "cc1cb865-6fe0-4fe5-be15-432949802d09",
   "metadata": {},
   "outputs": [],
   "source": [
    "### my code shows simple multiplication ###"
   ]
  },
  {
   "cell_type": "markdown",
   "id": "facb796c-89d1-4b60-a9f4-9ab9696d101c",
   "metadata": {},
   "source": [
    "one=1\n",
    "two=2\n",
    "print(one * two)"
   ]
  },
  {
   "cell_type": "markdown",
   "id": "4a7a8743-db10-4645-b799-ff309a32e1d1",
   "metadata": {},
   "source": [
    "1. rice\n",
    "2. yam\n",
    "3. spaghetti\n",
    "\n",
    "this is a horizontal rule...\n",
    "\n",
    "---\n",
    "\n",
    "\n",
    "\n",
    "\n",
    "<a href=\"https://dataplatform.cloud.ibm.com/gallery\">IBM Cloud Gallery</a>"
   ]
  },
  {
   "cell_type": "code",
   "execution_count": null,
   "id": "3c762e64-c7b9-4f99-9695-a1116b3e4fdd",
   "metadata": {},
   "outputs": [],
   "source": []
  }
 ],
 "metadata": {
  "kernelspec": {
   "display_name": "Python",
   "language": "python",
   "name": "conda-env-python-py"
  },
  "language_info": {
   "codemirror_mode": {
    "name": "ipython",
    "version": 3
   },
   "file_extension": ".py",
   "mimetype": "text/x-python",
   "name": "python",
   "nbconvert_exporter": "python",
   "pygments_lexer": "ipython3",
   "version": "3.7.12"
  }
 },
 "nbformat": 4,
 "nbformat_minor": 5
}
